{
  "nbformat": 4,
  "nbformat_minor": 0,
  "metadata": {
    "colab": {
      "provenance": []
    },
    "kernelspec": {
      "name": "python3",
      "display_name": "Python 3"
    },
    "language_info": {
      "name": "python"
    }
  },
  "cells": [
    {
      "cell_type": "code",
      "execution_count": null,
      "metadata": {
        "colab": {
          "base_uri": "https://localhost:8080/"
        },
        "id": "bZ71aNelaMja",
        "outputId": "c971c0c9-408d-4033-d98e-c820f096ccea"
      },
      "outputs": [
        {
          "output_type": "stream",
          "name": "stdout",
          "text": [
            "Potência gerada pelo Gerador 1: 44.25\n",
            "Potência gerada pelo Gerador 2: 55.75\n"
          ]
        }
      ],
      "source": [
        "import numpy as np\n",
        "\n",
        "# Definindo as funções de custo\n",
        "def C1(q1):\n",
        "    a1, b1, c1, d1, e1 = 0.01, 0.1, 0.5, 2, 10  # Exemplo de coeficientes\n",
        "    return a1 * q1**4 + b1 * q1**3 + c1 * q1**2 + d1 * q1 + e1\n",
        "\n",
        "def C2(q2):\n",
        "    a2, b2, c2, d2, e2 = 0.02, 0.05, 0.3, 1.5, 5  # Exemplo de coeficientes\n",
        "    return a2 * q2**4 + b2 * q2**3 + c2 * q2**2 + d2 * q2 + e2\n",
        "\n",
        "# Derivadas das funções de custo\n",
        "def dC1(q1):\n",
        "    a1, b1, c1, d1 = 10, 0.0, 0.0, 5\n",
        "    return 4 * a1 * q1**3 + 3 * b1 * q1**2 + 2 * c1 * q1 + d1\n",
        "\n",
        "def dC2(q2):\n",
        "    a2, b2, c2, d2 = 5, 0.0, 0.0, 15\n",
        "    return 4 * a2 * q2**3 + 3 * b2 * q2**2 + 2 * c2 * q2 + d2\n",
        "\n",
        "# Função para aplicar o método de Newton-Raphson\n",
        "def newton_raphson(initial_guess, tolerance=1e-6, max_iterations=100):\n",
        "    q1 = initial_guess\n",
        "    for _ in range(max_iterations):\n",
        "        q2 = 100 - q1  # Satisfazendo a demanda\n",
        "        f = dC1(q1) - dC2(q2)  # Custo marginal igual\n",
        "        df = (dC1(q1 + tolerance) - dC1(q1)) / tolerance  # Derivada numérica\n",
        "        if df == 0:  # Prevenindo divisão por zero\n",
        "            break\n",
        "        q1 -= f / df  # Atualização de q1\n",
        "        if abs(f) < tolerance:  # Verificando a convergência\n",
        "            break\n",
        "    return q1, 100 - q1  # Retorna q1 e q2\n",
        "\n",
        "# Executando o método de Newton-Raphson\n",
        "q1_optimal, q2_optimal = newton_raphson(initial_guess=50)\n",
        "print(f\"Potência gerada pelo Gerador 1: {q1_optimal:.2f}\")\n",
        "print(f\"Potência gerada pelo Gerador 2: {q2_optimal:.2f}\")\n"
      ]
    },
    {
      "cell_type": "code",
      "source": [
        "import numpy as np\n",
        "\n",
        "# Definindo as funções de custo\n",
        "def C1(q1):\n",
        "    a1, b1, c1, d1, e1 = 10, 0.0, 0.0, 2, 10  # Exemplo de coeficientes\n",
        "    return a1 * q1**4 + b1 * q1**3 + c1 * q1**2 + d1 * q1 + e1\n",
        "\n",
        "def C2(q2):\n",
        "    a2, b2, c2, d2, e2 = 0.02, 0.05, 0.3, 1.5, 5  # Exemplo de coeficientes\n",
        "    return a2 * q2**4 + b2 * q2**3 + c2 * q2**2 + d2 * q2 + e2\n",
        "\n",
        "# Derivadas das funções de custo\n",
        "def dC1(q1):\n",
        "    a1, b1, c1, d1 = 0.01, 0.1, 0.5, 2\n",
        "    return 4 * a1 * q1**3 + 3 * b1 * q1**2 + 2 * c1 * q1 + d1\n",
        "\n",
        "def dC2(q2):\n",
        "    a2, b2, c2, d2 = 0.02, 0.05, 0.3, 1.5\n",
        "    return 4 * a2 * q2**3 + 3 * b2 * q2**2 + 2 * c2 * q2 + d2\n",
        "\n",
        "# Função para aplicar o método de Newton-Raphson com limites\n",
        "def newton_raphson(initial_guess, limit_q1=40, limit_q2=80, tolerance=1e-6, max_iterations=100):\n",
        "    q1 = initial_guess\n",
        "    for _ in range(max_iterations):\n",
        "        q2 = 100 - q1  # Satisfazendo a demanda\n",
        "\n",
        "        # Verificação de limites\n",
        "        if q1 < 0:\n",
        "            q1 = 0\n",
        "        elif q1 > limit_q1:\n",
        "            q1 = limit_q1\n",
        "\n",
        "        if q2 < 0:\n",
        "            q2 = 0\n",
        "        elif q2 > limit_q2:\n",
        "            q2 = limit_q2\n",
        "\n",
        "        f = dC1(q1) - dC2(q2)  # Custo marginal igual\n",
        "        df = (dC1(q1 + tolerance) - dC1(q1)) / tolerance  # Derivada numérica\n",
        "        if df == 0:  # Prevenindo divisão por zero\n",
        "            break\n",
        "\n",
        "        q1 -= f / df  # Atualização de q1\n",
        "\n",
        "        # Se a nova q1 estiver fora dos limites, ajustamos\n",
        "        if q1 < 0:\n",
        "            q1 = 0\n",
        "        elif q1 > limit_q1:\n",
        "            q1 = limit_q1\n",
        "\n",
        "        # Verificando a convergência\n",
        "        if abs(f) < tolerance:\n",
        "            break\n",
        "\n",
        "    return q1, 100 - q1  # Retorna q1 e q2\n",
        "\n",
        "# Executando o método de Newton-Raphson\n",
        "q1_optimal, q2_optimal = newton_raphson(initial_guess=20)\n",
        "print(f\"Potência gerada pelo Gerador 1: {q1_optimal:.2f}\")\n",
        "print(f\"Potência gerada pelo Gerador 2: {q2_optimal:.2f}\")\n"
      ],
      "metadata": {
        "id": "UswFf3x6bxwn"
      },
      "execution_count": null,
      "outputs": []
    }
  ]
}